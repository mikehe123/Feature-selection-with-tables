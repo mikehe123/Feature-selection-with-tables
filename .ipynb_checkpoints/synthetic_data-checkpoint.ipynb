{
 "cells": [
  {
   "cell_type": "code",
   "execution_count": null,
   "id": "4d893379",
   "metadata": {},
   "outputs": [],
   "source": [
    "import pandas as pd\n",
    "from pandas._testing import rands_array\n",
    "import numpy as np\n",
    "import random\n",
    "import string\n",
    "\n",
    "\n",
    "def randStr(chars=string.ascii_uppercase + string.digits, N=10):\n",
    "    return ''.join(random.choice(chars) for _ in range(N))\n",
    "\n",
    "\n",
    "ARTIST_DF_LEN = 5\n",
    "artist_df = pd.DataFrame(data={\n",
    "    'artist': rands_array(6, ARTIST_DF_LEN),\n",
    "    'monthly_listeners': np.random.randint(\n",
    "        low=100, high=100000, size=(ARTIST_DF_LEN,)),\n",
    "})\n",
    "\n",
    "print(artist_df)\n",
    "\n",
    "\n",
    "# 1. generate songs with their respected artists (# songs follows normal dist)\n",
    "# 2. calculate stream_counts = artist's monthly_listeners / 3 + rand(std=100)\n",
    "MUSIC_DF_LEN = 25\n",
    "SONGS_PER_ARTIST_MEAN = 5\n",
    "SONGS_PER_ARTIST_STD = 4\n",
    "\n",
    "music_df_entries = []\n",
    "for (artist, listners) in artist_df.itertuples(name=None):\n",
    "    songs_count = np.random.randn() * SONGS_PER_ARTIST_STD + SONGS_PER_ARTIST_MEAN\n",
    "    for i in range(songs_count):\n",
    "        music_df_entries.append(\n",
    "            (randStr(N=6), randStr(N=6) + f'_{i+1}/{songs_count}'))\n",
    "\n",
    "music_df = pd.DataFrame(data={\n",
    "    'songs': rands_array(6, MUSIC_DF_LEN),\n",
    "    'artist': ,\n",
    "    'stream_counts': np.random.randint()\n",
    "})"
   ]
  }
 ],
 "metadata": {
  "kernelspec": {
   "display_name": "Python 3 (ipykernel)",
   "language": "python",
   "name": "python3"
  },
  "language_info": {
   "codemirror_mode": {
    "name": "ipython",
    "version": 3
   },
   "file_extension": ".py",
   "mimetype": "text/x-python",
   "name": "python",
   "nbconvert_exporter": "python",
   "pygments_lexer": "ipython3",
   "version": "3.9.6"
  }
 },
 "nbformat": 4,
 "nbformat_minor": 5
}
