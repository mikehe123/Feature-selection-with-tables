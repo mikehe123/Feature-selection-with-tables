{
 "cells": [
  {
   "cell_type": "code",
   "execution_count": 4,
   "id": "8cb2dfa6",
   "metadata": {},
   "outputs": [
    {
     "ename": "NameError",
     "evalue": "name 'os' is not defined",
     "output_type": "error",
     "traceback": [
      "\u001b[1;31m---------------------------------------------------------------------------\u001b[0m",
      "\u001b[1;31mNameError\u001b[0m                                 Traceback (most recent call last)",
      "\u001b[1;32mC:\\Users\\MIKEHE~1\\AppData\\Local\\Temp/ipykernel_680/2647808522.py\u001b[0m in \u001b[0;36m<module>\u001b[1;34m\u001b[0m\n\u001b[0;32m      4\u001b[0m \u001b[0mDATA_FOLDER\u001b[0m \u001b[1;33m=\u001b[0m \u001b[1;34m'Women-Basketball-DB'\u001b[0m\u001b[1;33m\u001b[0m\u001b[1;33m\u001b[0m\u001b[0m\n\u001b[0;32m      5\u001b[0m \u001b[0mFULL_DATA_FOLDER\u001b[0m \u001b[1;33m=\u001b[0m \u001b[0mpath\u001b[0m\u001b[1;33m.\u001b[0m\u001b[0mjoin\u001b[0m\u001b[1;33m(\u001b[0m\u001b[0mgetcwd\u001b[0m\u001b[1;33m(\u001b[0m\u001b[1;33m)\u001b[0m\u001b[1;33m,\u001b[0m \u001b[0mDATA_FOLDER\u001b[0m\u001b[1;33m)\u001b[0m\u001b[1;33m\u001b[0m\u001b[1;33m\u001b[0m\u001b[0m\n\u001b[1;32m----> 6\u001b[1;33m \u001b[0mprint\u001b[0m\u001b[1;33m(\u001b[0m\u001b[0mos\u001b[0m\u001b[1;33m.\u001b[0m\u001b[0mpath\u001b[0m\u001b[1;33m.\u001b[0m\u001b[0misabs\u001b[0m\u001b[1;33m(\u001b[0m\u001b[0mFULL_DATA_FOLDER\u001b[0m\u001b[1;33m)\u001b[0m\u001b[1;33m)\u001b[0m\u001b[1;33m\u001b[0m\u001b[1;33m\u001b[0m\u001b[0m\n\u001b[0m\u001b[0;32m      7\u001b[0m \u001b[1;33m\u001b[0m\u001b[0m\n\u001b[0;32m      8\u001b[0m TABLES = [f.split('.')[0]\n",
      "\u001b[1;31mNameError\u001b[0m: name 'os' is not defined"
     ]
    }
   ],
   "source": [
    "import pandas as pd\n",
    "from os import path, listdir, getcwd,isabs\n",
    "\n",
    "DATA_FOLDER = 'Women-Basketball-DB'\n",
    "FULL_DATA_FOLDER = path.join(getcwd(), DATA_FOLDER)\n",
    "print(os.path.isabs(FULL_DATA_FOLDER))\n",
    "\n",
    "TABLES = [f.split('.')[0]\n",
    "          for f in listdir(FULL_DATA_FOLDER) if f.endswith('.csv')]\n",
    "\n",
    "for table in TABLES:\n",
    "    globals()[table] = pd.read_csv(f'{FULL_DATA_FOLDER}/{table}.csv')\n",
    "\n",
    "__all__ = TABLES\n",
    "\n",
    "\n",
    "# class Database:\n",
    "#     def __init__(self, data_foler: str) -> None:\n",
    "#         self.data_folder\n"
   ]
  },
  {
   "cell_type": "code",
   "execution_count": null,
   "id": "b81106ce",
   "metadata": {},
   "outputs": [],
   "source": []
  }
 ],
 "metadata": {
  "kernelspec": {
   "display_name": "Python 3 (ipykernel)",
   "language": "python",
   "name": "python3"
  },
  "language_info": {
   "codemirror_mode": {
    "name": "ipython",
    "version": 3
   },
   "file_extension": ".py",
   "mimetype": "text/x-python",
   "name": "python",
   "nbconvert_exporter": "python",
   "pygments_lexer": "ipython3",
   "version": "3.9.6"
  }
 },
 "nbformat": 4,
 "nbformat_minor": 5
}
