{
 "cells": [
  {
   "cell_type": "code",
   "execution_count": 31,
   "id": "b636fdfa",
   "metadata": {},
   "outputs": [
    {
     "data": {
      "text/html": [
       "<div>\n",
       "<style scoped>\n",
       "    .dataframe tbody tr th:only-of-type {\n",
       "        vertical-align: middle;\n",
       "    }\n",
       "\n",
       "    .dataframe tbody tr th {\n",
       "        vertical-align: top;\n",
       "    }\n",
       "\n",
       "    .dataframe thead th {\n",
       "        text-align: right;\n",
       "    }\n",
       "</style>\n",
       "<table border=\"1\" class=\"dataframe\">\n",
       "  <thead>\n",
       "    <tr style=\"text-align: right;\">\n",
       "      <th></th>\n",
       "      <th>GNP</th>\n",
       "    </tr>\n",
       "  </thead>\n",
       "  <tbody>\n",
       "    <tr>\n",
       "      <th>0</th>\n",
       "      <td>828.0</td>\n",
       "    </tr>\n",
       "    <tr>\n",
       "      <th>1</th>\n",
       "      <td>5976.0</td>\n",
       "    </tr>\n",
       "    <tr>\n",
       "      <th>2</th>\n",
       "      <td>6648.0</td>\n",
       "    </tr>\n",
       "    <tr>\n",
       "      <th>3</th>\n",
       "      <td>63.2</td>\n",
       "    </tr>\n",
       "    <tr>\n",
       "      <th>4</th>\n",
       "      <td>3205.0</td>\n",
       "    </tr>\n",
       "    <tr>\n",
       "      <th>...</th>\n",
       "      <td>...</td>\n",
       "    </tr>\n",
       "    <tr>\n",
       "      <th>234</th>\n",
       "      <td>6041.0</td>\n",
       "    </tr>\n",
       "    <tr>\n",
       "      <th>235</th>\n",
       "      <td>17000.0</td>\n",
       "    </tr>\n",
       "    <tr>\n",
       "      <th>236</th>\n",
       "      <td>116729.0</td>\n",
       "    </tr>\n",
       "    <tr>\n",
       "      <th>237</th>\n",
       "      <td>3377.0</td>\n",
       "    </tr>\n",
       "    <tr>\n",
       "      <th>238</th>\n",
       "      <td>5951.0</td>\n",
       "    </tr>\n",
       "  </tbody>\n",
       "</table>\n",
       "<p>239 rows × 1 columns</p>\n",
       "</div>"
      ],
      "text/plain": [
       "          GNP\n",
       "0       828.0\n",
       "1      5976.0\n",
       "2      6648.0\n",
       "3        63.2\n",
       "4      3205.0\n",
       "..        ...\n",
       "234    6041.0\n",
       "235   17000.0\n",
       "236  116729.0\n",
       "237    3377.0\n",
       "238    5951.0\n",
       "\n",
       "[239 rows x 1 columns]"
      ]
     },
     "execution_count": 31,
     "metadata": {},
     "output_type": "execute_result"
    }
   ],
   "source": [
    "from jse import JoinSizeEstimation\n",
    "from jse import UBS\n",
    "from sklearn.metrics.cluster import mutual_info_score,adjusted_mutual_info_score\n",
    "import pandas as pd\n",
    "\n",
    "# from data import *\n",
    "\n",
    "population = pd.read_csv(\"Dataset/population.csv\",sep='\\t')\n",
    "country = pd.read_csv(\"Dataset/country.csv\")\n",
    "expectancy = pd.read_csv(\"Dataset/expectancy.csv\",sep='\\t')\n",
    "gnp = pd.read_csv(\"Dataset/gnp.csv\",sep='\\t')\n",
    "\n",
    "\n",
    "population.head()\n",
    "\n",
    "gnp.iloc[:, [1]]"
   ]
  },
  {
   "cell_type": "code",
   "execution_count": 34,
   "id": "8fa80103",
   "metadata": {},
   "outputs": [
    {
     "name": "stdout",
     "output_type": "stream",
     "text": [
      "1.0\n"
     ]
    }
   ],
   "source": [
    "# def UBS(p: float, q: float, T: pd.DataFrame, J: str) -> pd.DataFrame\n",
    "s1 = UBS(1,1,city,'CountryCode')\n",
    "s2 = UBS(1,1,country,'Code')\n",
    "m = adjusted_mutual_info_score(country['IndepYear'],country['IndepYear'])\n",
    "print(m)\n",
    "# ds = { 'country':country, 'expectancy': expectancy, 'gnp':gnp, 'population':population}\n",
    "ds = { 'expectancy': expectancy, 'gnp':gnp, 'population':population}"
   ]
  },
  {
   "cell_type": "code",
   "execution_count": 36,
   "id": "0f532b80",
   "metadata": {},
   "outputs": [
    {
     "ename": "ValueError",
     "evalue": "too many values to unpack (expected 2)",
     "output_type": "error",
     "traceback": [
      "\u001b[1;31m---------------------------------------------------------------------------\u001b[0m",
      "\u001b[1;31mValueError\u001b[0m                                Traceback (most recent call last)",
      "\u001b[1;32mC:\\Users\\MIKEHE~1\\AppData\\Local\\Temp/ipykernel_20972/2703704097.py\u001b[0m in \u001b[0;36m<module>\u001b[1;34m\u001b[0m\n\u001b[0;32m     19\u001b[0m \u001b[1;33m\u001b[0m\u001b[0m\n\u001b[0;32m     20\u001b[0m \u001b[0mmi_coll\u001b[0m \u001b[1;33m=\u001b[0m\u001b[1;33m{\u001b[0m\u001b[1;33m}\u001b[0m\u001b[1;33m\u001b[0m\u001b[1;33m\u001b[0m\u001b[0m\n\u001b[1;32m---> 21\u001b[1;33m \u001b[0mmi_selection\u001b[0m\u001b[1;33m(\u001b[0m\u001b[0mexpectancy\u001b[0m\u001b[1;33m,\u001b[0m\u001b[1;34m'LifeExpectancy'\u001b[0m\u001b[1;33m,\u001b[0m\u001b[1;34m'Code'\u001b[0m\u001b[1;33m,\u001b[0m \u001b[0mds\u001b[0m\u001b[1;33m,\u001b[0m\u001b[1;36m0.5\u001b[0m\u001b[1;33m,\u001b[0m \u001b[0mmi_coll\u001b[0m\u001b[1;33m)\u001b[0m\u001b[1;33m\u001b[0m\u001b[1;33m\u001b[0m\u001b[0m\n\u001b[0m\u001b[0;32m     22\u001b[0m \u001b[1;33m\u001b[0m\u001b[0m\n",
      "\u001b[1;32mC:\\Users\\MIKEHE~1\\AppData\\Local\\Temp/ipykernel_20972/2703704097.py\u001b[0m in \u001b[0;36mmi_selection\u001b[1;34m(main_df, target_attribute, join_key, data_set, max_sss, mi_collections)\u001b[0m\n\u001b[0;32m      2\u001b[0m     \u001b[1;32mif\u001b[0m \u001b[1;33m(\u001b[0m\u001b[0mmax_sss\u001b[0m \u001b[1;33m==\u001b[0m \u001b[1;36m1\u001b[0m\u001b[1;33m)\u001b[0m\u001b[1;33m:\u001b[0m\u001b[1;33m\u001b[0m\u001b[1;33m\u001b[0m\u001b[0m\n\u001b[0;32m      3\u001b[0m         \u001b[1;32mpass\u001b[0m\u001b[1;33m\u001b[0m\u001b[1;33m\u001b[0m\u001b[0m\n\u001b[1;32m----> 4\u001b[1;33m     \u001b[1;32mfor\u001b[0m \u001b[0mdf_name\u001b[0m\u001b[1;33m,\u001b[0m \u001b[0mdata_frame\u001b[0m \u001b[1;32min\u001b[0m \u001b[0mds\u001b[0m\u001b[1;33m:\u001b[0m\u001b[1;33m\u001b[0m\u001b[1;33m\u001b[0m\u001b[0m\n\u001b[0m\u001b[0;32m      5\u001b[0m         \u001b[0ms1\u001b[0m \u001b[1;33m=\u001b[0m \u001b[0mUBS\u001b[0m\u001b[1;33m(\u001b[0m\u001b[0mmax_sss\u001b[0m\u001b[1;33m,\u001b[0m\u001b[1;36m1\u001b[0m\u001b[1;33m,\u001b[0m\u001b[0mmain_df\u001b[0m\u001b[1;33m,\u001b[0m\u001b[0mjoin_key\u001b[0m\u001b[1;33m)\u001b[0m\u001b[1;33m\u001b[0m\u001b[1;33m\u001b[0m\u001b[0m\n\u001b[0;32m      6\u001b[0m         \u001b[0ms2\u001b[0m \u001b[1;33m=\u001b[0m \u001b[0mUBS\u001b[0m\u001b[1;33m(\u001b[0m\u001b[0mmax_sss\u001b[0m\u001b[1;33m,\u001b[0m\u001b[1;36m1\u001b[0m\u001b[1;33m,\u001b[0m\u001b[0mdata_frame\u001b[0m\u001b[1;33m,\u001b[0m\u001b[0mjoin_key\u001b[0m\u001b[1;33m)\u001b[0m\u001b[1;33m\u001b[0m\u001b[1;33m\u001b[0m\u001b[0m\n",
      "\u001b[1;31mValueError\u001b[0m: too many values to unpack (expected 2)"
     ]
    }
   ],
   "source": [
    "def mi_selection(main_df,target_attribute,join_key, data_set, max_sss, mi_collections):\n",
    "    if (max_sss == 1):\n",
    "        pass\n",
    "    for df_name, data_frame in ds.iteritems():\n",
    "        s1 = UBS(max_sss,1,main_df,join_key)\n",
    "        s2 = UBS(max_sss,1,data_frame,join_key)\n",
    "        s_join = pd.merge(\n",
    "            s1, s2, left_on=join_key, right_on=join_key)\n",
    "        mi_score = mutual_info_score(s_join[target_attribute],s_join[target_attribute])\n",
    "        mi_collections.update({df_name:mi_score})\n",
    "    \n",
    "    max_score = 0\n",
    "    max_name = \"\"\n",
    "    for mi_name, mi_score in mi_collections:\n",
    "        if mi_score >= max_score:\n",
    "            max_score = mi_score\n",
    "            max_name = mi_name\n",
    "    print(max_name, max_score)\n",
    "    \n",
    "mi_coll ={}\n",
    "mi_selection(expectancy,'LifeExpectancy','Code', ds,0.5, mi_coll)   \n",
    "        "
   ]
  },
  {
   "cell_type": "code",
   "execution_count": null,
   "id": "13a6f89f",
   "metadata": {},
   "outputs": [],
   "source": []
  }
 ],
 "metadata": {
  "kernelspec": {
   "display_name": "Python 3 (ipykernel)",
   "language": "python",
   "name": "python3"
  },
  "language_info": {
   "codemirror_mode": {
    "name": "ipython",
    "version": 3
   },
   "file_extension": ".py",
   "mimetype": "text/x-python",
   "name": "python",
   "nbconvert_exporter": "python",
   "pygments_lexer": "ipython3",
   "version": "3.9.6"
  }
 },
 "nbformat": 4,
 "nbformat_minor": 5
}
