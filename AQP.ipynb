{
 "cells": [
  {
   "cell_type": "code",
   "execution_count": 1,
   "id": "5d219d7a",
   "metadata": {},
   "outputs": [
    {
     "name": "stdout",
     "output_type": "stream",
     "text": [
      "['city', 'country', 'frpm', 'satscores', 'awards_players', 'coaches', 'draft', 'players', 'players_teams', 'series_post', 'teams', 'teams_post', 'game', 'opening']\n"
     ]
    }
   ],
   "source": [
    "from sys import platform\n",
    "from struct import unpack\n",
    "from hashlib import md5\n",
    "import matplotlib.pyplot as plt\n",
    "import cmath\n",
    "import math\n",
    "import pandas as pd\n",
    "import numpy as np\n",
    "\n",
    "from data import* "
   ]
  },
  {
   "cell_type": "markdown",
   "id": "aa237731",
   "metadata": {},
   "source": [
    "#### Universe-Bernoulli Sampling (UBS)"
   ]
  },
  {
   "cell_type": "code",
   "execution_count": 2,
   "id": "a4b805f6",
   "metadata": {},
   "outputs": [],
   "source": [
    "\n",
    "def UBS(p: float, q: float, T: pd.DataFrame, J: str) -> pd.DataFrame:\n",
    "    \"\"\"\n",
    "    [summary]\n",
    "        Universe-Bernoulli Sampling\n",
    "        (http://www.vldb.org/pvldb/vol13/p547-huang.pdf section 3.2 def 6)\n",
    "\n",
    "    [Return]\n",
    "        pd.DataFrame sampled from the given table\n",
    "\n",
    "    [Parameters]\n",
    "        p - (float): 0 < p ≤ 1 universe sampling rate\n",
    "        q - (float): 0 < q ≤ 1 Bernoulli (uniform) sampling rate\n",
    "        T - (pd.DataFrame): table\n",
    "        J - (str): column name\n",
    "    \"\"\"\n",
    "    def universal_hash(s: str):\n",
    "        n = 4 if platform == 'win32' else 8\n",
    "        return float(unpack('L', md5(s.encode('utf8')).digest()[:n])[0]) / 2**32\n",
    "\n",
    "    feature = T[J].dropna().astype('str')\n",
    "    prob = (feature.apply(universal_hash))\n",
    "    universe_sample = [i for i, pr in enumerate(prob) if pr < p]\n",
    "\n",
    "    T = T.loc[universe_sample]\n",
    "\n",
    "    sample = T.sample(frac=q)\n",
    "    return sample\n"
   ]
  },
  {
   "cell_type": "markdown",
   "id": "1f6b8c7f",
   "metadata": {},
   "source": [
    "### 5.1 Join Size Estimation: Count on Joins\n",
    "#### Estimator for Ecount \n"
   ]
  },
  {
   "cell_type": "code",
   "execution_count": 3,
   "id": "4f1a7d7c-f4f3-4abd-8f4f-8935984c4383",
   "metadata": {},
   "outputs": [],
   "source": [
    "def join_count_estimate(parameters, sam_join_size):\n",
    "    p = parameters[0]\n",
    "    q1 = parameters[1]\n",
    "    q2 = parameters[2]\n",
    "    print(\"est\",sam_join_size, p,q1,q2 )\n",
    "    i_count_estimate = (1/(p*q1*q2))*sam_join_size\n",
    "    return i_count_estimate"
   ]
  },
  {
   "cell_type": "markdown",
   "id": "ddcc4b55",
   "metadata": {},
   "source": [
    "#### Theorem 11. Optimal sampling parameters"
   ]
  },
  {
   "cell_type": "code",
   "execution_count": 4,
   "id": "1362c516",
   "metadata": {},
   "outputs": [],
   "source": [
    "\n",
    "def get_gamma(A, B, i,j):\n",
    "    c = 0\n",
    "    for a,va in A.items():\n",
    "        for b,vb in B.items():\n",
    "            if a == b:\n",
    "                c +=  (float(va)**i) * (float(vb)**j)\n",
    "    return c\n",
    "\n",
    "def get_gamma_v2(A, B, i,j):\n",
    "    c = 0\n",
    "    if(i == 1):\n",
    "        freq_list_1 = A\n",
    "    else:\n",
    "        freq_list_1 = B\n",
    "    if(j == 1):\n",
    "        freq_list_2 = A\n",
    "    else:\n",
    "        freq_list_2 = B\n",
    "        \n",
    "    for a,va in freq_list_1.items():\n",
    "        for b,vb in freq_list_2.items():\n",
    "            if a == b:\n",
    "                c +=  float(va) * float(vb)\n",
    "    return c\n",
    "    \n",
    "def get_gamma_set(A,B):\n",
    "    g11 = get_gamma(A,B,1,1)\n",
    "    g12 = get_gamma(A,B,1,2)\n",
    "    g21 = get_gamma(A,B,2,1)\n",
    "    g22 = get_gamma(A,B,2,2)\n",
    "    return (g11,g12,g21,g22)\n",
    "\n",
    "def get_gamma_set_v2(A,B):\n",
    "    g11 = get_gamma_v2(A,B,1,1)\n",
    "    g12 = get_gamma_v2(A,B,1,2)\n",
    "    g21 = get_gamma_v2(A,B,2,1)\n",
    "    g22 = get_gamma_v2(A,B,2,2)\n",
    "    return (g11,g12,g21,g22)\n",
    "\n",
    "def optimal_universe_sampling_rate(esr1,esr2, gammas):\n",
    "    g11 = gammas[0]\n",
    "    g12 = gammas[1]\n",
    "    g21 = gammas[2]\n",
    "    g22 = gammas[3]\n",
    "    \n",
    "    print(\"check: \" +(esr1*esr2*g22-g12-g21+g11)/g11)\n",
    "    opt_para = cmath.sqrt((esr1*esr2*g22-g12-g21+g11)/g11)\n",
    "#     print(type(opt_para))\n",
    "\n",
    "    if isinstance(opt_para, complex):\n",
    "        opt_para = 0\n",
    "    return min(1, max(esr1,esr2,opt_para))\n",
    "\n",
    "def optimal_sampling_parameters(esr1,esr2, gammas):\n",
    "    p = optimal_universe_sampling_rate(esr1,esr2, gammas)\n",
    "    q1 = esr1/p\n",
    "    q2 = esr2/p\n",
    "    return (p,q1,q2,esr1,esr2)\n",
    "\n",
    "# # gamma_set = get_gamma_set(city_freq, country_freq)\n",
    "# gamma_set = get_gamma_set_v2(city_freq, country_freq)\n",
    "\n",
    "# parameters = optimal_sampling_parameters(0.9,0.9, gamma_set)\n",
    "\n",
    "# print(f\"gammas: g11, g12, g21, g22 {gamma_set}\")\n",
    "# print(f\"parameters: p, q1, q2, esr1, esr2: {parameters}\")\n"
   ]
  },
  {
   "cell_type": "code",
   "execution_count": null,
   "id": "96620a01-f9d3-4931-acd8-3d72b908a7f6",
   "metadata": {},
   "outputs": [],
   "source": []
  },
  {
   "cell_type": "markdown",
   "id": "57e57b2e",
   "metadata": {},
   "source": [
    "#### Lemma 8"
   ]
  },
  {
   "cell_type": "code",
   "execution_count": 5,
   "id": "ef299a11",
   "metadata": {},
   "outputs": [],
   "source": [
    "def get_variance(parameters, gammas):\n",
    "    p = parameters[0]\n",
    "    q1 = parameters[1]\n",
    "    q2 = parameters[2]\n",
    "    esr1 = parameters[3]\n",
    "    esr2 = parameters[4]\n",
    "    \n",
    "    g11 = gammas[0]\n",
    "    g12 = gammas[1]\n",
    "    g21 = gammas[2]\n",
    "    g22 = gammas[3]\n",
    "\n",
    "    var_j_count = ((1-p)/p)*g22 + ((1-q2)/(p*q2))*g21 + ((1 - q1)/(p*q1))*g12 \\\n",
    "    + (((1 - q1)*(1 - q2))/(p*q1*q2))*g11\n",
    "    \n",
    "    return var_j_count"
   ]
  },
  {
   "cell_type": "markdown",
   "id": "7e2b5054",
   "metadata": {},
   "source": [
    "#### 5.1.1 Centralized Sampling for Count"
   ]
  },
  {
   "cell_type": "code",
   "execution_count": 6,
   "id": "3046e5fd",
   "metadata": {},
   "outputs": [],
   "source": [
    "def get_variance_c(parameters, gammas):\n",
    "    p = parameters[0]\n",
    "    q1 = parameters[1]\n",
    "    q2 = parameters[2]\n",
    "    esr1 = parameters[3]\n",
    "    esr2 = parameters[4]\n",
    "    \n",
    "    g11 = gammas[0]\n",
    "    g12 = gammas[1]\n",
    "    g21 = gammas[2]\n",
    "    g22 = gammas[3]\n",
    "    \n",
    "\n",
    "    var_j_count = ((1/p)-1)*g22 + ((1/esr2)-(1/p))*g21 + ((1/esr1) - (1/p))*g12 \\\n",
    "    + ((p/(esr1*esr2)) - (1/esr1) - (1/esr2) + (1/p))*g11\n",
    "    return var_j_count\n",
    "    "
   ]
  },
  {
   "cell_type": "markdown",
   "id": "d4591a32",
   "metadata": {},
   "source": [
    "#### 5.1.2 Decentralized Sampling for Count"
   ]
  },
  {
   "cell_type": "code",
   "execution_count": 7,
   "id": "8aa40e3b",
   "metadata": {},
   "outputs": [],
   "source": [
    "def get_variance_d(parameters, gammas):\n",
    "    p = parameters[0]\n",
    "    q1 = parameters[1]\n",
    "    q2 = parameters[2]\n",
    "    esr1 = parameters[3]\n",
    "    esr2 = parameters[4]\n",
    "    \n",
    "    g11 = gammas[0]\n",
    "    g12 = gammas[1]\n",
    "    g21 = gammas[2]\n",
    "    g22 = gammas[3]\n",
    "    \n",
    "    var_j_count = ((1/p)-1)*g22 + ((1/esr2) - (1/p))*g21 + ((1/esr1) - (1/p))*g12 \\\n",
    "    + ((p/(esr1*esr2)) - (1/esr1) - (1/esr2) + (1/p))*g11\n",
    "    return var_j_count\n",
    "    "
   ]
  },
  {
   "cell_type": "code",
   "execution_count": 8,
   "id": "30830856-6875-4b1d-979d-ada968426a48",
   "metadata": {},
   "outputs": [],
   "source": [
    "def get_variance_e(parameter, A ,B):\n",
    "    join_size = 0\n",
    "    for a,va in A.items():\n",
    "        for b,vb in B.items():\n",
    "            if a == b:\n",
    "                join_size +=  float(va)*float(vb)\n",
    "#     print(join_size)\n",
    "    variance = ((1/parameter) - 1)* join_size\n",
    "    return variance"
   ]
  },
  {
   "cell_type": "markdown",
   "id": "82579639",
   "metadata": {},
   "source": [
    "### Estimate Join on World DB"
   ]
  },
  {
   "cell_type": "markdown",
   "id": "0e8eabdb",
   "metadata": {},
   "source": [
    "#### Get tables frequencies"
   ]
  },
  {
   "cell_type": "code",
   "execution_count": 9,
   "id": "00456fe2",
   "metadata": {},
   "outputs": [],
   "source": [
    "city_freq = dict(city['CountryCode'].value_counts())\n",
    "country_freq = dict(country['Code'].value_counts())\n",
    "\n",
    "#not 100 perecent correct\n",
    "def get_freq_in_percent(target_list):\n",
    "    freq_percent_list = {}\n",
    "    length = 0\n",
    "    \n",
    "    for code, freq in target_list.items():\n",
    "        length += freq\n",
    "        \n",
    "    for code, freq in target_list.items():\n",
    "        freq_percent_list[code] = freq/length\n",
    "    return freq_percent_list\n",
    "\n",
    "city_freq_percent = get_freq_in_percent(city_freq)\n",
    "country_freq_percent = get_freq_in_percent(country_freq)"
   ]
  },
  {
   "cell_type": "markdown",
   "id": "035fd2c4",
   "metadata": {},
   "source": [
    "#### Get optimal sampling parameters and variance freq"
   ]
  },
  {
   "cell_type": "code",
   "execution_count": 10,
   "id": "da431c91",
   "metadata": {},
   "outputs": [
    {
     "ename": "TypeError",
     "evalue": "can only concatenate str (not \"float\") to str",
     "output_type": "error",
     "traceback": [
      "\u001b[1;31m---------------------------------------------------------------------------\u001b[0m",
      "\u001b[1;31mTypeError\u001b[0m                                 Traceback (most recent call last)",
      "\u001b[1;32mC:\\Users\\MIKEHE~1\\AppData\\Local\\Temp/ipykernel_9592/1710189799.py\u001b[0m in \u001b[0;36m<module>\u001b[1;34m\u001b[0m\n\u001b[0;32m      3\u001b[0m \u001b[1;31m# gamma_set = get_gamma_set_v2(city_freq, country_freq)\u001b[0m\u001b[1;33m\u001b[0m\u001b[1;33m\u001b[0m\u001b[1;33m\u001b[0m\u001b[0m\n\u001b[0;32m      4\u001b[0m \u001b[1;33m\u001b[0m\u001b[0m\n\u001b[1;32m----> 5\u001b[1;33m \u001b[0mparameters\u001b[0m \u001b[1;33m=\u001b[0m \u001b[0moptimal_sampling_parameters\u001b[0m\u001b[1;33m(\u001b[0m\u001b[1;36m0.9\u001b[0m\u001b[1;33m,\u001b[0m\u001b[1;36m0.9\u001b[0m\u001b[1;33m,\u001b[0m \u001b[0mgamma_set\u001b[0m\u001b[1;33m)\u001b[0m\u001b[1;33m\u001b[0m\u001b[1;33m\u001b[0m\u001b[0m\n\u001b[0m\u001b[0;32m      6\u001b[0m \u001b[1;33m\u001b[0m\u001b[0m\n\u001b[0;32m      7\u001b[0m \u001b[0mprint\u001b[0m\u001b[1;33m(\u001b[0m\u001b[1;34mf\"gammas: g11, g12, g21, g22 {gamma_set}\"\u001b[0m\u001b[1;33m)\u001b[0m\u001b[1;33m\u001b[0m\u001b[1;33m\u001b[0m\u001b[0m\n",
      "\u001b[1;32mC:\\Users\\MIKEHE~1\\AppData\\Local\\Temp/ipykernel_9592/2421773004.py\u001b[0m in \u001b[0;36moptimal_sampling_parameters\u001b[1;34m(esr1, esr2, gammas)\u001b[0m\n\u001b[0;32m     53\u001b[0m \u001b[1;33m\u001b[0m\u001b[0m\n\u001b[0;32m     54\u001b[0m \u001b[1;32mdef\u001b[0m \u001b[0moptimal_sampling_parameters\u001b[0m\u001b[1;33m(\u001b[0m\u001b[0mesr1\u001b[0m\u001b[1;33m,\u001b[0m\u001b[0mesr2\u001b[0m\u001b[1;33m,\u001b[0m \u001b[0mgammas\u001b[0m\u001b[1;33m)\u001b[0m\u001b[1;33m:\u001b[0m\u001b[1;33m\u001b[0m\u001b[1;33m\u001b[0m\u001b[0m\n\u001b[1;32m---> 55\u001b[1;33m     \u001b[0mp\u001b[0m \u001b[1;33m=\u001b[0m \u001b[0moptimal_universe_sampling_rate\u001b[0m\u001b[1;33m(\u001b[0m\u001b[0mesr1\u001b[0m\u001b[1;33m,\u001b[0m\u001b[0mesr2\u001b[0m\u001b[1;33m,\u001b[0m \u001b[0mgammas\u001b[0m\u001b[1;33m)\u001b[0m\u001b[1;33m\u001b[0m\u001b[1;33m\u001b[0m\u001b[0m\n\u001b[0m\u001b[0;32m     56\u001b[0m     \u001b[0mq1\u001b[0m \u001b[1;33m=\u001b[0m \u001b[0mesr1\u001b[0m\u001b[1;33m/\u001b[0m\u001b[0mp\u001b[0m\u001b[1;33m\u001b[0m\u001b[1;33m\u001b[0m\u001b[0m\n\u001b[0;32m     57\u001b[0m     \u001b[0mq2\u001b[0m \u001b[1;33m=\u001b[0m \u001b[0mesr2\u001b[0m\u001b[1;33m/\u001b[0m\u001b[0mp\u001b[0m\u001b[1;33m\u001b[0m\u001b[1;33m\u001b[0m\u001b[0m\n",
      "\u001b[1;32mC:\\Users\\MIKEHE~1\\AppData\\Local\\Temp/ipykernel_9592/2421773004.py\u001b[0m in \u001b[0;36moptimal_universe_sampling_rate\u001b[1;34m(esr1, esr2, gammas)\u001b[0m\n\u001b[0;32m     44\u001b[0m     \u001b[0mg22\u001b[0m \u001b[1;33m=\u001b[0m \u001b[0mgammas\u001b[0m\u001b[1;33m[\u001b[0m\u001b[1;36m3\u001b[0m\u001b[1;33m]\u001b[0m\u001b[1;33m\u001b[0m\u001b[1;33m\u001b[0m\u001b[0m\n\u001b[0;32m     45\u001b[0m \u001b[1;33m\u001b[0m\u001b[0m\n\u001b[1;32m---> 46\u001b[1;33m     \u001b[0mprint\u001b[0m\u001b[1;33m(\u001b[0m\u001b[1;34m\"check: \"\u001b[0m \u001b[1;33m+\u001b[0m\u001b[1;33m(\u001b[0m\u001b[0mesr1\u001b[0m\u001b[1;33m*\u001b[0m\u001b[0mesr2\u001b[0m\u001b[1;33m*\u001b[0m\u001b[0mg22\u001b[0m\u001b[1;33m-\u001b[0m\u001b[0mg12\u001b[0m\u001b[1;33m-\u001b[0m\u001b[0mg21\u001b[0m\u001b[1;33m+\u001b[0m\u001b[0mg11\u001b[0m\u001b[1;33m)\u001b[0m\u001b[1;33m/\u001b[0m\u001b[0mg11\u001b[0m\u001b[1;33m)\u001b[0m\u001b[1;33m\u001b[0m\u001b[1;33m\u001b[0m\u001b[0m\n\u001b[0m\u001b[0;32m     47\u001b[0m     \u001b[0mopt_para\u001b[0m \u001b[1;33m=\u001b[0m \u001b[0mcmath\u001b[0m\u001b[1;33m.\u001b[0m\u001b[0msqrt\u001b[0m\u001b[1;33m(\u001b[0m\u001b[1;33m(\u001b[0m\u001b[0mesr1\u001b[0m\u001b[1;33m*\u001b[0m\u001b[0mesr2\u001b[0m\u001b[1;33m*\u001b[0m\u001b[0mg22\u001b[0m\u001b[1;33m-\u001b[0m\u001b[0mg12\u001b[0m\u001b[1;33m-\u001b[0m\u001b[0mg21\u001b[0m\u001b[1;33m+\u001b[0m\u001b[0mg11\u001b[0m\u001b[1;33m)\u001b[0m\u001b[1;33m/\u001b[0m\u001b[0mg11\u001b[0m\u001b[1;33m)\u001b[0m\u001b[1;33m\u001b[0m\u001b[1;33m\u001b[0m\u001b[0m\n\u001b[0;32m     48\u001b[0m \u001b[1;31m#     print(type(opt_para))\u001b[0m\u001b[1;33m\u001b[0m\u001b[1;33m\u001b[0m\u001b[1;33m\u001b[0m\u001b[0m\n",
      "\u001b[1;31mTypeError\u001b[0m: can only concatenate str (not \"float\") to str"
     ]
    }
   ],
   "source": [
    "\n",
    "gamma_set = get_gamma_set(country_freq,city_freq )\n",
    "gamma_set_test = get_gamma_set(city_freq,country_freq)\n",
    "# gamma_set = get_gamma_set_v2(city_freq, country_freq)\n",
    "\n",
    "parameters = optimal_sampling_parameters(0.9,0.9, gamma_set)\n",
    "\n",
    "print(f\"gammas: g11, g12, g21, g22 {gamma_set}\")\n",
    "print(f\"gammas test : g11, g12, g21, g22 {gamma_set_test}\")\n",
    "print(f\"parameters: p, q1, q2, esr1, esr2: {parameters}\")\n",
    "print(get_variance(parameters, gamma_set))\n",
    "print(get_variance_c(parameters, gamma_set))\n",
    "print(get_variance_d(parameters, gamma_set))\n",
    "print(get_variance_e(0.9, city_freq,country_freq))\n"
   ]
  },
  {
   "cell_type": "markdown",
   "id": "902d074d",
   "metadata": {},
   "source": [
    "#### Variance graph"
   ]
  },
  {
   "cell_type": "code",
   "execution_count": null,
   "id": "5df76eb0",
   "metadata": {},
   "outputs": [],
   "source": [
    "# variance_range = []\n",
    "# for increment_i in range (1,1000,1):\n",
    "#     for increment_j in range (1,1000,1):\n",
    "#         i = float(increment_i)/1000\n",
    "#         j = float(increment_j)/1000\n",
    "    \n",
    "#         para = optimal_sampling_parameters(i,j, gamma_set)\n",
    "#         variance_range.append(get_variance(para, gamma_set))\n",
    "        \n",
    "# variance_range.sort(reverse = True)  "
   ]
  },
  {
   "cell_type": "code",
   "execution_count": 11,
   "id": "29b6fc73-5949-4766-96f8-6fd5cf117c72",
   "metadata": {},
   "outputs": [],
   "source": [
    "variance_range = []\n",
    "for increment_i in range (1,1000,1):\n",
    "    i = float(increment_i)/1000\n",
    "    variance_range.append(get_variance_e(i,city_freq, country_freq))\n",
    "        \n",
    "variance_range.sort(reverse = True)  \n",
    "# print(variance_range)"
   ]
  },
  {
   "cell_type": "code",
   "execution_count": 12,
   "id": "8570408f",
   "metadata": {},
   "outputs": [
    {
     "data": {
      "image/png": "[encoded data removed]",
      "text/plain": [
       "<Figure size 432x288 with 1 Axes>"
      ]
     },
     "metadata": {
      "needs_background": "light"
     },
     "output_type": "display_data"
    }
   ],
   "source": [
    "plt.title(\"variance graph\")\n",
    "plt.xlabel(\"effective sampleing rate\")\n",
    "plt.ylabel(\"variance\")\n",
    "plt.plot(variance_range, color =\"red\")\n",
    "plt.show()"
   ]
  },
  {
   "cell_type": "markdown",
   "id": "b29fab5b",
   "metadata": {},
   "source": [
    "#### Get Join Count and Estimate Join Count"
   ]
  },
  {
   "cell_type": "code",
   "execution_count": 13,
   "id": "bc555448",
   "metadata": {},
   "outputs": [
    {
     "name": "stdout",
     "output_type": "stream",
     "text": [
      "Join counts:  4079\n",
      "Sampling join count:  3769\n"
     ]
    },
    {
     "ename": "NameError",
     "evalue": "name 'parameters' is not defined",
     "output_type": "error",
     "traceback": [
      "\u001b[1;31m---------------------------------------------------------------------------\u001b[0m",
      "\u001b[1;31mNameError\u001b[0m                                 Traceback (most recent call last)",
      "\u001b[1;32mC:\\Users\\MIKEHE~1\\AppData\\Local\\Temp/ipykernel_9592/4041342707.py\u001b[0m in \u001b[0;36m<module>\u001b[1;34m\u001b[0m\n\u001b[0;32m      8\u001b[0m \u001b[1;33m\u001b[0m\u001b[0m\n\u001b[0;32m      9\u001b[0m \u001b[0mprint\u001b[0m\u001b[1;33m(\u001b[0m\u001b[1;34m\"Sampling join count: \"\u001b[0m\u001b[1;33m,\u001b[0m \u001b[0msample_join_df\u001b[0m\u001b[1;33m.\u001b[0m\u001b[0mshape\u001b[0m\u001b[1;33m[\u001b[0m\u001b[1;36m0\u001b[0m\u001b[1;33m]\u001b[0m\u001b[1;33m)\u001b[0m\u001b[1;33m\u001b[0m\u001b[1;33m\u001b[0m\u001b[0m\n\u001b[1;32m---> 10\u001b[1;33m \u001b[0mestimate_join_count\u001b[0m \u001b[1;33m=\u001b[0m \u001b[0mjoin_count_estimate\u001b[0m\u001b[1;33m(\u001b[0m\u001b[0mparameters\u001b[0m \u001b[1;33m,\u001b[0m \u001b[0msample_join_df\u001b[0m\u001b[1;33m.\u001b[0m\u001b[0mshape\u001b[0m\u001b[1;33m[\u001b[0m\u001b[1;36m0\u001b[0m\u001b[1;33m]\u001b[0m\u001b[1;33m)\u001b[0m\u001b[1;33m\u001b[0m\u001b[1;33m\u001b[0m\u001b[0m\n\u001b[0m\u001b[0;32m     11\u001b[0m \u001b[0mprint\u001b[0m\u001b[1;33m(\u001b[0m\u001b[1;34m\"Estimate join count: \"\u001b[0m\u001b[1;33m,\u001b[0m \u001b[0mestimate_join_count\u001b[0m\u001b[1;33m)\u001b[0m\u001b[1;33m\u001b[0m\u001b[1;33m\u001b[0m\u001b[0m\n",
      "\u001b[1;31mNameError\u001b[0m: name 'parameters' is not defined"
     ]
    }
   ],
   "source": [
    "\n",
    "join_df = pd.merge(city,country, left_on='CountryCode', right_on='Code' )\n",
    "print(\"Join counts: \", join_df.shape[0])\n",
    "\n",
    "city_sample = UBS(0.9, 1, city, 'CountryCode')\n",
    "country_sample = UBS(0.9, 1, country, 'Code')\n",
    "\n",
    "sample_join_df =  pd.merge(city_sample,country_sample, left_on='CountryCode', right_on='Code' )\n",
    "\n",
    "print(\"Sampling join count: \", sample_join_df.shape[0])\n",
    "estimate_join_count = join_count_estimate(parameters , sample_join_df.shape[0])\n",
    "print(\"Estimate join count: \", estimate_join_count)\n"
   ]
  },
  {
   "cell_type": "code",
   "execution_count": null,
   "id": "edca1403",
   "metadata": {},
   "outputs": [],
   "source": [
    "def join_count_estimate_2(p, q1, q2, sam_join_size):    \n",
    "    i_count_estimate = (1/(p*q1*q2))*sam_join_size\n",
    "    return i_count_estimate\n",
    "\n",
    "def sampling_stats():\n",
    "    estimate_jcounts = []\n",
    "    for increment_i in range (1,100,1):\n",
    "        city_sample = UBS(0.9, 1.0, city, 'CountryCode')\n",
    "        country_sample = UBS(0.9, 1.0, country, 'Code')\n",
    "        sample_j_count =  pd.merge(city_sample,country_sample, left_on='CountryCode', right_on='Code' ).shape[0]\n",
    "        estimate_jcounts.append(join_count_estimate_2(0.9,1.0,1.0,sample_join_df.shape[0]))\n",
    "    return estimate_jcounts\n",
    "\n",
    "est_joins = sampling_stats()\n"
   ]
  },
  {
   "cell_type": "code",
   "execution_count": null,
   "id": "58b0b9a6",
   "metadata": {},
   "outputs": [],
   "source": [
    "manual_vairance = sum([(ej- 4079 )*2 for ej in est_joins])/(len(est_joins) -1)\n",
    "print(manual_vairance)"
   ]
  },
  {
   "cell_type": "code",
   "execution_count": null,
   "id": "464ef820-7079-42b1-99aa-98520a2f5bd6",
   "metadata": {},
   "outputs": [],
   "source": [
    "# plt.title(\"sampling join estimate graph\")\n",
    "# plt.xlabel(\"effective sampleing rate\")\n",
    "# plt.ylabel(\"variance\")\n",
    "# plt.plot(est_joins, color =\"red\")\n",
    "# plt.show()"
   ]
  },
  {
   "cell_type": "code",
   "execution_count": null,
   "id": "b05472fa-0630-4cb5-b87f-7799bec74a12",
   "metadata": {},
   "outputs": [],
   "source": []
  },
  {
   "cell_type": "code",
   "execution_count": null,
   "id": "352251df-0210-4ea4-a0b8-4998f7940883",
   "metadata": {},
   "outputs": [],
   "source": []
  },
  {
   "cell_type": "code",
   "execution_count": null,
   "id": "14398acf-10d0-461d-a9eb-f3d24e96379a",
   "metadata": {},
   "outputs": [],
   "source": []
  },
  {
   "cell_type": "code",
   "execution_count": null,
   "id": "bf10e366-0ebd-4fdb-9148-8542d2085c9d",
   "metadata": {},
   "outputs": [],
   "source": []
  },
  {
   "cell_type": "code",
   "execution_count": null,
   "id": "2b7e955a-b7a3-4472-9522-4ed7881c36e6",
   "metadata": {},
   "outputs": [],
   "source": []
  },
  {
   "cell_type": "code",
   "execution_count": null,
   "id": "a0c26a7e-112c-411d-81eb-0367856dc5d2",
   "metadata": {},
   "outputs": [],
   "source": []
  }
 ],
 "metadata": {
  "kernelspec": {
   "display_name": "Python 3 (ipykernel)",
   "language": "python",
   "name": "python3"
  },
  "language_info": {
   "codemirror_mode": {
    "name": "ipython",
    "version": 3
   },
   "file_extension": ".py",
   "mimetype": "text/x-python",
   "name": "python",
   "nbconvert_exporter": "python",
   "pygments_lexer": "ipython3",
   "version": "3.9.6"
  }
 },
 "nbformat": 4,
 "nbformat_minor": 5
}
